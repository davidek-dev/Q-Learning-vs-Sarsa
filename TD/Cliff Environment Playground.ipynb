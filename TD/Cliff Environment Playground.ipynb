{
 "cells": [
  {
   "cell_type": "code",
   "execution_count": 3,
   "metadata": {},
   "outputs": [],
   "source": [
    "import gym\n",
    "import numpy as np\n",
    "import sys\n",
    "\n",
    "if \"../\" not in sys.path:\n",
    "  sys.path.append(\"../\") \n",
    "\n",
    "from lib.envs.cliff_walking import CliffWalkingEnv"
   ]
  },
  {
   "cell_type": "code",
   "execution_count": 4,
   "metadata": {},
   "outputs": [
    {
     "name": "stderr",
     "output_type": "stream",
     "text": [
      "c:\\Users\\david\\Documents\\GitHub\\reinforcement-learning\\.conda\\lib\\site-packages\\gym\\envs\\registration.py:563: UserWarning: \u001b[33mWARN: Using the latest versioned environment `CliffWalking-v0` instead of the unversioned environment `CliffWalking`.\u001b[0m\n",
      "  logger.warn(\n"
     ]
    },
    {
     "name": "stdout",
     "output_type": "stream",
     "text": [
      "(36, {'prob': 1})\n",
      "(24, -1, False, False, {'prob': 1.0})\n",
      "(25, -1, False, False, {'prob': 1.0})\n",
      "(26, -1, False, False, {'prob': 1.0})\n",
      "(14, -1, False, False, {'prob': 1.0})\n",
      "(2, -1, False, False, {'prob': 1.0})\n",
      "(3, -1, False, False, {'prob': 1.0})\n",
      "(15, -1, False, False, {'prob': 1.0})\n",
      "(14, -1, False, False, {'prob': 1.0})\n",
      "(26, -1, False, False, {'prob': 1.0})\n"
     ]
    }
   ],
   "source": [
    "env = CliffWalkingEnv()\n",
    "env = gym.make(\"CliffWalking\", render_mode=\"human\").env\n",
    "\n",
    "print(env.reset())\n",
    "env.render()\n",
    "\n",
    "print(env.step(0))\n",
    "env.render()\n",
    "\n",
    "print(env.step(1))\n",
    "env.render()\n",
    "\n",
    "print(env.step(1))\n",
    "env.render()\n",
    "\n",
    "print(env.step(0))\n",
    "env.render()\n",
    "\n",
    "print(env.step(0))\n",
    "env.render()\n",
    "\n",
    "print(env.step(1))\n",
    "env.render()\n",
    "\n",
    "print(env.step(2))\n",
    "env.render()\n",
    "\n",
    "print(env.step(3))\n",
    "env.render()\n",
    "\n",
    "print(env.step(2))\n",
    "env.render()\n",
    "\n",
    "env.render()"
   ]
  },
  {
   "cell_type": "code",
   "execution_count": 16,
   "metadata": {},
   "outputs": [
    {
     "name": "stdout",
     "output_type": "stream",
     "text": [
      "(36, {'prob': 1})\n",
      "(24, -1, False, False, {'prob': 1.0})\n",
      "(25, -1, False, False, {'prob': 1.0})\n",
      "(26, -1, False, False, {'prob': 1.0})\n",
      "(27, -1, False, False, {'prob': 1.0})\n",
      "(28, -1, False, False, {'prob': 1.0})\n",
      "(29, -1, False, False, {'prob': 1.0})\n",
      "(30, -1, False, False, {'prob': 1.0})\n",
      "(31, -1, False, False, {'prob': 1.0})\n",
      "(32, -1, False, False, {'prob': 1.0})\n",
      "(33, -1, False, False, {'prob': 1.0})\n",
      "(34, -1, False, False, {'prob': 1.0})\n",
      "(35, -1, False, False, {'prob': 1.0})\n",
      "(35, -1, False, False, {'prob': 1.0})\n",
      "(47, -1, True, False, {'prob': 1.0})\n"
     ]
    },
    {
     "ename": "",
     "evalue": "",
     "output_type": "error",
     "traceback": [
      "\u001b[1;31mDer Kernel ist beim Ausführen von Code in der aktuellen Zelle oder einer vorherigen Zelle abgestürzt. \n",
      "\u001b[1;31mBitte überprüfen Sie den Code in der/den Zelle(n), um eine mögliche Fehlerursache zu identifizieren. \n",
      "\u001b[1;31mKlicken Sie <a href='https://aka.ms/vscodeJupyterKernelCrash'>hier</a>, um weitere Informationen zu erhalten. \n",
      "\u001b[1;31mWeitere Informationen finden Sie unter Jupyter <a href='command:jupyter.viewOutput'>Protokoll</a>."
     ]
    }
   ],
   "source": [
    "env = CliffWalkingEnv()\n",
    "env = gym.make(\"CliffWalking\", render_mode=\"human\").env\n",
    "\n",
    "print(env.reset())\n",
    "env.render()\n",
    "\n",
    "print(env.step(0))\n",
    "env.render()\n",
    "\n",
    "print(env.step(1))\n",
    "env.render()\n",
    "\n",
    "print(env.step(1))\n",
    "env.render()\n",
    "\n",
    "print(env.step(1))\n",
    "env.render()\n",
    "\n",
    "print(env.step(1))\n",
    "env.render()\n",
    "\n",
    "print(env.step(1))\n",
    "env.render()\n",
    "\n",
    "print(env.step(1))\n",
    "env.render()\n",
    "\n",
    "print(env.step(1))\n",
    "env.render()\n",
    "\n",
    "print(env.step(1))\n",
    "env.render()\n",
    "\n",
    "print(env.step(1))\n",
    "env.render()\n",
    "\n",
    "print(env.step(1))\n",
    "env.render()\n",
    "\n",
    "print(env.step(1))\n",
    "env.render()\n",
    "\n",
    "print(env.step(1))\n",
    "env.render()\n",
    "\n",
    "print(env.step(2))\n",
    "env.render()\n",
    "\n",
    "\n",
    "\n",
    "\n",
    "\n",
    "env.render()"
   ]
  }
 ],
 "metadata": {
  "kernelspec": {
   "display_name": "Python 3",
   "language": "python",
   "name": "python3"
  },
  "language_info": {
   "codemirror_mode": {
    "name": "ipython",
    "version": 3
   },
   "file_extension": ".py",
   "mimetype": "text/x-python",
   "name": "python",
   "nbconvert_exporter": "python",
   "pygments_lexer": "ipython3",
   "version": "3.8.19"
  }
 },
 "nbformat": 4,
 "nbformat_minor": 1
}
